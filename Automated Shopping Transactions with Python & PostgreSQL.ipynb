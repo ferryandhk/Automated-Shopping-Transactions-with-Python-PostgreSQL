{
 "cells": [
  {
   "cell_type": "code",
   "execution_count": 1,
   "id": "c8251dac-bb86-44ab-a30d-20b3b7651271",
   "metadata": {},
   "outputs": [
    {
     "name": "stdout",
     "output_type": "stream",
     "text": [
      "Requirement already satisfied: psycopg2 in c:\\users\\sgs motor\\appdata\\local\\programs\\python\\python313\\lib\\site-packages (2.9.10)\n",
      "Requirement already satisfied: tabulate in c:\\users\\sgs motor\\appdata\\local\\programs\\python\\python313\\lib\\site-packages (0.9.0)\n"
     ]
    },
    {
     "name": "stderr",
     "output_type": "stream",
     "text": [
      "\n",
      "[notice] A new release of pip is available: 24.3.1 -> 25.0.1\n",
      "[notice] To update, run: python.exe -m pip install --upgrade pip\n"
     ]
    }
   ],
   "source": [
    "!pip install psycopg2 tabulate"
   ]
  },
  {
   "cell_type": "code",
   "execution_count": null,
   "id": "3f3f5d22-464b-4aa1-be17-b929c1eda408",
   "metadata": {},
   "outputs": [
    {
     "name": "stdout",
     "output_type": "stream",
     "text": [
      "✅ Successfully connected to the database!\n"
     ]
    }
   ],
   "source": [
    "import psycopg2\n",
    "\n",
    "# Database connection configuration\n",
    "db_config = {\n",
    "    \"dbname\": \"transaction\",\n",
    "    \"user\": \"postgres\",\n",
    "    \"password\": \"admin\",\n",
    "    \"host\": \"localhost\",\n",
    "    \"port\": \"1234\"\n",
    "}\n",
    "\n",
    "# Attempt to connect to the database\n",
    "try:\n",
    "    conn = psycopg2.connect(**db_config)\n",
    "    print(\"✅ Successfully connected to the database!\")\n",
    "    conn.close()  # Close the connection\n",
    "except Exception as e:\n",
    "    print(\"❌ Error:\", e)\n"
   ]
  },
  {
   "cell_type": "code",
   "execution_count": 3,
   "id": "96a363d5-ea47-4677-82a1-7d7417c4d6dd",
   "metadata": {},
   "outputs": [],
   "source": [
    "from tabulate import tabulate\n",
    "\n",
    "def insert_to_db(item, jumlah, harga, total):\n",
    "    \"\"\"\n",
    "    Inserts a transaction record into the PostgreSQL database.\n",
    "\n",
    "    This function establishes a connection to the database, ensures \n",
    "    that the 'transaksi' table exists, and then inserts the given \n",
    "    transaction data. If an error occurs, it prints an error message.\n",
    "\n",
    "    Args:\n",
    "        item (str): The name of the item.\n",
    "        jumlah (int): The quantity of the item.\n",
    "        harga (int): The price per unit.\n",
    "        total (int): The total price (jumlah * harga).\n",
    "\n",
    "    Raises:\n",
    "        Exception: If there is an issue with the database connection or query execution.\n",
    "    \"\"\"\n",
    "    try:\n",
    "        # Establish a connection to the PostgreSQL database\n",
    "        conn = psycopg2.connect(**db_config)\n",
    "        cur = conn.cursor()\n",
    "\n",
    "        # Ensure the 'transaksi' table exists\n",
    "        create_table_query = \"\"\"\n",
    "        CREATE TABLE IF NOT EXISTS transaksi (\n",
    "            id SERIAL PRIMARY KEY,\n",
    "            item TEXT NOT NULL,\n",
    "            jumlah INT NOT NULL,\n",
    "            harga INT NOT NULL,\n",
    "            total_harga INT NOT NULL\n",
    "        );\n",
    "        \"\"\"\n",
    "        cur.execute(create_table_query)\n",
    "\n",
    "        # Insert data into the table\n",
    "        insert_query = \"\"\"\n",
    "        INSERT INTO transaksi (item, jumlah, harga, total_harga) \n",
    "        VALUES (%s, %s, %s, %s);\n",
    "        \"\"\"\n",
    "        cur.execute(insert_query, (item, jumlah, harga, total))\n",
    "        conn.commit()  # Commit the transaction\n",
    "        \n",
    "        # Close the cursor and connection\n",
    "        cur.close()\n",
    "        conn.close()\n",
    "        print(\"✅ Data successfully inserted into the database.\")\n",
    "    except Exception as e:\n",
    "        print(\"❌ Failed to insert data into the database:\", e)\n"
   ]
  },
  {
   "cell_type": "code",
   "execution_count": 4,
   "id": "fdf0327b-c6f3-49d7-a7b8-cca508a2b911",
   "metadata": {},
   "outputs": [
    {
     "name": "stdout",
     "output_type": "stream",
     "text": [
      "Masukan Item:  Buku\n",
      "Masukan Jumlah:  2\n",
      "Masukan Harga:  50000\n"
     ]
    },
    {
     "name": "stdout",
     "output_type": "stream",
     "text": [
      "✅ Data successfully inserted into the database.\n"
     ]
    },
    {
     "name": "stdout",
     "output_type": "stream",
     "text": [
      "Tambah item lagi? (y/n):  n\n"
     ]
    },
    {
     "name": "stdout",
     "output_type": "stream",
     "text": [
      "\n",
      " Struk Belanja:\n",
      "+--------+----------+---------+---------+\n",
      "| Item   |   Jumlah |   Harga |   Total |\n",
      "+========+==========+=========+=========+\n",
      "| Buku   |        2 |   50000 |  100000 |\n",
      "+--------+----------+---------+---------+\n"
     ]
    }
   ],
   "source": [
    "class Belanja:\n",
    "    def __init__(self):\n",
    "        \"\"\"Function for input data customers\"\"\"\n",
    "        self.belanja = []\n",
    "\n",
    "    def input_belanja(self):\n",
    "        \"\"\"Function  for input, 'item', 'jumlah' and 'harga'\"\"\"\n",
    "        \n",
    "        while True:\n",
    "            item = input(\"Masukan Item: \")\n",
    "            \n",
    "            try:\n",
    "\n",
    "                jumlah = int(input(\"Masukan Jumlah: \"))\n",
    "                \n",
    "                harga = int(input(\"Masukan Harga: \"))\n",
    "                \n",
    "                total = jumlah * harga\n",
    "\n",
    "                # Insert to database\n",
    "                insert_to_db(item, jumlah, harga, total)\n",
    "\n",
    "                self.belanja.append((item, jumlah, harga, total))\n",
    "\n",
    "                #Except ValueError\n",
    "            except ValueError:\n",
    "                print(\"⚠️ Input harus berupa angka. Silakan coba lagi.\")\n",
    "\n",
    "            lanjut = input(\"Tambah item lagi? (y/n): \").strip().lower()\n",
    "            \n",
    "            #If 'n' is entered, the loop will break and go to the next step\n",
    "            if lanjut == \"n\":\n",
    "                break\n",
    "\n",
    "    def tampilkan_struk(self):\n",
    "        \"\"\"Function to display the shopping receipt in a tabulated format.\"\"\"\n",
    "        \n",
    "        headers = [\"Item\", \"Jumlah\", \"Harga\", \"Total\"]\n",
    "        print(\"\\n Struk Belanja:\")\n",
    "        print(tabulate(self.belanja, headers=headers, tablefmt=\"grid\"))\n",
    "\n",
    "# Eksekusi Program\n",
    "instance = Belanja()\n",
    "\n",
    "instance.input_belanja()\n",
    "\n",
    "instance.tampilkan_struk()\n"
   ]
  }
 ],
 "metadata": {
  "kernelspec": {
   "display_name": "Python 3 (ipykernel)",
   "language": "python",
   "name": "python3"
  },
  "language_info": {
   "codemirror_mode": {
    "name": "ipython",
    "version": 3
   },
   "file_extension": ".py",
   "mimetype": "text/x-python",
   "name": "python",
   "nbconvert_exporter": "python",
   "pygments_lexer": "ipython3",
   "version": "3.13.2"
  }
 },
 "nbformat": 4,
 "nbformat_minor": 5
}
